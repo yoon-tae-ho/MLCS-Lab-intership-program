{
 "cells": [
  {
   "cell_type": "code",
   "execution_count": 1,
   "metadata": {},
   "outputs": [],
   "source": [
    "import os, glob\n",
    "import numpy as np\n",
    "\n",
    "path_to_outputs = os.path.join('..','001_CSV','outputs')\n",
    "\n",
    "path_to_train_2d_datasets = os.path.join(path_to_outputs, 'train', '*.csv')\n",
    "train_2d_files = glob.glob(path_to_train_2d_datasets)\n",
    "\n",
    "# We already know that the width and height of the 2D MNIST dataset is 28.\n",
    "train = np.empty((len(train_2d_files), 28, 28))\n",
    "train_labels = np.empty((len(train_2d_files)))\n",
    "\n",
    "# Read the csv and replace the elements\n",
    "for data_idx, data_path in enumerate(train_2d_files):\n",
    "  csv_data = np.loadtxt(data_path, delimiter=\",\")\n",
    "  train[data_idx] = csv_data\n",
    "  label_idx = len(path_to_outputs + \"/train/#\")\n",
    "  train_labels[data_idx] = data_path[label_idx]"
   ]
  },
  {
   "cell_type": "code",
   "execution_count": 2,
   "metadata": {},
   "outputs": [],
   "source": [
    "# load test data\n",
    "path_to_test_2d_datasets = os.path.join('..','001_CSV','outputs','test','*.csv')\n",
    "test_2d_files = glob.glob(path_to_test_2d_datasets)\n",
    "\n",
    "test = np.empty((len(test_2d_files), 28, 28))\n",
    "test_labels = np.empty((len(test_2d_files)))\n",
    "\n",
    "for data_idx, data_path in enumerate(test_2d_files):\n",
    "  csv_data = np.loadtxt(data_path, delimiter=\",\")\n",
    "  test[data_idx] = csv_data\n",
    "  label_idx = len(path_to_outputs + \"/test/#\")\n",
    "  test_labels[data_idx] = data_path[label_idx]"
   ]
  },
  {
   "cell_type": "code",
   "execution_count": 3,
   "metadata": {},
   "outputs": [],
   "source": [
    "# concatenate train and test data\n",
    "data = np.concatenate((train, test), axis=0)\n",
    "labels = np.concatenate((train_labels, test_labels))"
   ]
  },
  {
   "cell_type": "code",
   "execution_count": 4,
   "metadata": {},
   "outputs": [],
   "source": [
    "# shuffle\n",
    "shuffled = np.array(list(range(len(labels))))\n",
    "np.random.shuffle(shuffled)"
   ]
  },
  {
   "cell_type": "code",
   "execution_count": 5,
   "metadata": {},
   "outputs": [],
   "source": [
    "# split\n",
    "shuffled_len = len(shuffled)\n",
    "\n",
    "# index_list == [train_indexes, validation_indexes, test_indexes]\n",
    "index_list = np.split(shuffled, [int(shuffled_len / 10 * 7), int(shuffled_len / 10 * 9)])"
   ]
  },
  {
   "cell_type": "code",
   "execution_count": 6,
   "metadata": {},
   "outputs": [],
   "source": [
    "# apply shuffled indexes\n",
    "\n",
    "# 0: train\n",
    "# 1: validation\n",
    "# 2: test\n",
    "data_list = []\n",
    "label_list = []\n",
    "\n",
    "for i, indexes in enumerate(index_list):\n",
    "  a_data = np.empty((len(indexes), 28, 28))\n",
    "  a_labels = np.empty(len(indexes))\n",
    "  \n",
    "  for j, index in enumerate(indexes):\n",
    "    a_data[j] = data[index]\n",
    "    a_labels[j] = labels[index]\n",
    "  \n",
    "  data_list.append(a_data)\n",
    "  label_list.append(a_labels)"
   ]
  },
  {
   "cell_type": "code",
   "execution_count": 7,
   "metadata": {},
   "outputs": [],
   "source": [
    "# output\n",
    "path_to_save = os.path.join(\"dataset.npz\")\n",
    "np.savez(path_to_save, train_x=data_list[0], train_y=label_list[0], valid_x=data_list[1], valid_y=label_list[1], test_x=data_list[2], test_y=label_list[2])"
   ]
  },
  {
   "cell_type": "code",
   "execution_count": 10,
   "metadata": {},
   "outputs": [
    {
     "name": "stdout",
     "output_type": "stream",
     "text": [
      "(49000, 28, 28)\n",
      "(49000,)\n",
      "(14000, 28, 28)\n",
      "(14000,)\n",
      "(7000, 28, 28)\n",
      "(7000,)\n"
     ]
    }
   ],
   "source": [
    "loaded = np.load(path_to_save)\n",
    "\n",
    "train_x = loaded[\"train_x\"]\n",
    "train_y = loaded[\"train_y\"]\n",
    "valid_x = loaded[\"valid_x\"]\n",
    "valid_y = loaded[\"valid_y\"]\n",
    "test_x = loaded[\"test_x\"]\n",
    "test_y = loaded[\"test_y\"]\n",
    "\n",
    "print(train_x.shape)\n",
    "print(train_y.shape)\n",
    "print(valid_x.shape)\n",
    "print(valid_y.shape)\n",
    "print(test_x.shape)\n",
    "print(test_y.shape)"
   ]
  }
 ],
 "metadata": {
  "kernelspec": {
   "display_name": "Python 3",
   "language": "python",
   "name": "python3"
  },
  "language_info": {
   "codemirror_mode": {
    "name": "ipython",
    "version": 3
   },
   "file_extension": ".py",
   "mimetype": "text/x-python",
   "name": "python",
   "nbconvert_exporter": "python",
   "pygments_lexer": "ipython3",
   "version": "3.11.4"
  },
  "orig_nbformat": 4
 },
 "nbformat": 4,
 "nbformat_minor": 2
}
