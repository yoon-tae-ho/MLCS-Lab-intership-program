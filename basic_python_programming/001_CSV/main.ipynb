{
 "cells": [
  {
   "cell_type": "code",
   "execution_count": 6,
   "metadata": {},
   "outputs": [
    {
     "name": "stdout",
     "output_type": "stream",
     "text": [
      "datasets/mnist_train_cloned.csv\n",
      "datasets/mnist_train.csv\n",
      "datasets/mnist_train_2.csv\n",
      "datasets/*.csv\n"
     ]
    }
   ],
   "source": [
    "# Get paths of datasets\n",
    "\n",
    "import os\n",
    "import csv\n",
    "\n",
    "path_to_train_dataset_1 = os.path.join('datasets','mnist_train.csv')\n",
    "path_to_train_dataset_2 = os.path.join('datasets','mnist_train_2.csv')\n",
    "path_to_test_dataset = os.path.join('datasets','mnist_test.csv')\n",
    "\n",
    "paths_to_datasets = os.path.join('datasets','*.csv') # Returns list of paths\n",
    "\n",
    "path_to_output = os.path.join('datasets','mnist_train_cloned.csv')\n",
    "\n",
    "print(path_to_output)\n",
    "print(path_to_train_dataset_1)\n",
    "print(path_to_train_dataset_2)\n",
    "print(paths_to_datasets)"
   ]
  },
  {
   "cell_type": "code",
   "execution_count": 7,
   "metadata": {},
   "outputs": [
    {
     "name": "stdout",
     "output_type": "stream",
     "text": [
      "(10000, 785)\n",
      "(10000,)\n",
      "(10000, 28, 28)\n"
     ]
    }
   ],
   "source": [
    "# test dataset\n",
    "\n",
    "import numpy as np\n",
    "\n",
    "test_data = np.loadtxt(path_to_test_dataset, delimiter=\",\")\n",
    "print(test_data.shape)\n",
    "\n",
    "test_labels = []\n",
    "test_images = []\n",
    "\n",
    "for i in range(0, len(test_data)):\n",
    "  # label\n",
    "  test_labels.append(test_data[i][0])\n",
    "\n",
    "  # image\n",
    "  test_image = []\n",
    "  for j in range(0, 28):\n",
    "    test_image.append(test_data[i][(28 * j) + 1:(28 * (j + 1)) + 1])\n",
    "    \n",
    "  test_images.append(test_image)\n",
    "\n",
    "test_labels = np.array(test_labels).astype(np.int32)\n",
    "test_images = np.array(test_images).astype(np.int32)\n",
    "\n",
    "print(test_labels.shape)\n",
    "print(test_images.shape)"
   ]
  },
  {
   "cell_type": "code",
   "execution_count": 4,
   "metadata": {},
   "outputs": [
    {
     "name": "stdout",
     "output_type": "stream",
     "text": [
      "(60000, 785)\n",
      "(60000,)\n",
      "(60000, 28, 28)\n"
     ]
    }
   ],
   "source": [
    "# train dataset\n",
    "\n",
    "import numpy as np\n",
    "\n",
    "data_1 = np.loadtxt(path_to_train_dataset_1, delimiter=\",\")\n",
    "data_2 = np.loadtxt(path_to_train_dataset_2, delimiter=\",\")\n",
    "\n",
    "data = np.concatenate((data_1, data_2), axis=0)\n",
    "print(data.shape)\n",
    "\n",
    "labels = []\n",
    "images = []\n",
    "\n",
    "for i in range(0, len(data)):\n",
    "  # label\n",
    "  labels.append(data[i][0])\n",
    "\n",
    "  # image\n",
    "  image = []\n",
    "  for j in range(0, 28):\n",
    "    image.append(data[i][(28 * j) + 1:(28 * (j + 1)) + 1])\n",
    "    \n",
    "  images.append(image)\n",
    "\n",
    "labels = np.array(labels).astype(np.int32)\n",
    "images = np.array(images).astype(np.int32)\n",
    "\n",
    "print(labels.shape)\n",
    "print(images.shape)"
   ]
  },
  {
   "cell_type": "code",
   "execution_count": 8,
   "metadata": {},
   "outputs": [],
   "source": [
    "# test output\n",
    "\n",
    "import pandas as pd\n",
    "\n",
    "test_output_path_train = os.path.join('outputs', 'test')\n",
    "\n",
    "if not os.path.exists(test_output_path_train):\n",
    "    os.makedirs(test_output_path_train)\n",
    "\n",
    "for i in range(0, len(test_labels)):\n",
    "    file_path = os.path.join(test_output_path_train, f\"#{test_labels[i]}-#{i}.csv\")\n",
    "\n",
    "    # using numpy\n",
    "    # np.savetxt(file_path, test_images[i], delimiter=\",\")\n",
    "\n",
    "    # using pandas\n",
    "    df = pd.DataFrame(test_images[i])\n",
    "    df.to_csv(file_path, index=None, header=None)\n"
   ]
  },
  {
   "cell_type": "code",
   "execution_count": 5,
   "metadata": {},
   "outputs": [],
   "source": [
    "# train output\n",
    "\n",
    "import pandas as pd\n",
    "\n",
    "output_path_train = os.path.join('outputs', 'train')\n",
    "\n",
    "if not os.path.exists(output_path_train):\n",
    "    os.makedirs(output_path_train)\n",
    "\n",
    "for i in range(0, len(labels)):\n",
    "    file_path = os.path.join(output_path_train, f\"#{labels[i]}-#{i}.csv\")\n",
    "\n",
    "    # using numpy\n",
    "    # np.savetxt(file_path, images[i], delimiter=\",\")\n",
    "\n",
    "    # using pandas\n",
    "    df = pd.DataFrame(images[i])\n",
    "    df.to_csv(file_path, index=None, header=None)\n"
   ]
  },
  {
   "cell_type": "code",
   "execution_count": null,
   "metadata": {},
   "outputs": [],
   "source": []
  }
 ],
 "metadata": {
  "kernelspec": {
   "display_name": "Python 3",
   "language": "python",
   "name": "python3"
  },
  "language_info": {
   "codemirror_mode": {
    "name": "ipython",
    "version": 3
   },
   "file_extension": ".py",
   "mimetype": "text/x-python",
   "name": "python",
   "nbconvert_exporter": "python",
   "pygments_lexer": "ipython3",
   "version": "3.11.4"
  },
  "orig_nbformat": 4
 },
 "nbformat": 4,
 "nbformat_minor": 2
}
